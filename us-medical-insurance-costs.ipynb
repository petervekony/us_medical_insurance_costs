{
 "cells": [
  {
   "cell_type": "markdown",
   "metadata": {},
   "source": [
    "# U.S. Medical Insurance Costs\n",
    "In this project, using Python's CSV module, I analyze __insurance.csv__ provided by Codecademy. "
   ]
  },
  {
   "cell_type": "code",
   "execution_count": 2,
   "metadata": {},
   "outputs": [],
   "source": [
    "#First, I have to import the CSV module\n",
    "import csv"
   ]
  },
  {
   "cell_type": "markdown",
   "metadata": {},
   "source": [
    "After taking a look at __insurance.csv__, I created seven empty lists for the different attributes in the dataset."
   ]
  },
  {
   "cell_type": "code",
   "execution_count": 3,
   "metadata": {},
   "outputs": [],
   "source": [
    "ages = []\n",
    "sexes = []\n",
    "bmis = []\n",
    "num_of_children = []\n",
    "smoking = []\n",
    "regions = []\n",
    "insurance_charges = []"
   ]
  },
  {
   "cell_type": "markdown",
   "metadata": {},
   "source": [
    "To fill my empty lists with the relevant data, I wrote a function that iterates through the rows and appends the attribute (specified in the function's parameter) to the list."
   ]
  },
  {
   "cell_type": "code",
   "execution_count": 4,
   "metadata": {},
   "outputs": [],
   "source": [
    "def list_filler(csv_file, list, column):\n",
    "    with open(csv_file) as open_file:\n",
    "        file = csv.DictReader(open_file)\n",
    "        for row in file:\n",
    "            list.append(row[column])\n",
    "\n",
    "list_filler(\"insurance.csv\", ages, \"age\")\n",
    "list_filler(\"insurance.csv\", sexes, \"sex\")\n",
    "list_filler(\"insurance.csv\", bmis, \"bmi\")\n",
    "list_filler(\"insurance.csv\", num_of_children, \"children\")\n",
    "list_filler(\"insurance.csv\", smoking, \"smoker\")\n",
    "list_filler(\"insurance.csv\", regions, \"region\")\n",
    "list_filler(\"insurance.csv\", insurance_charges, \"charges\")"
   ]
  },
  {
   "cell_type": "markdown",
   "metadata": {},
   "source": [
    "After determining the __average age__, and the __male-to-female ratio__ in the dataset, the scope of my analysis is to find the relationship between:\n",
    "-  age, smoking, and the insurance charges\n",
    "-  smoking and gender\n",
    "-  number of children and insurance charges\n",
    "-  smoking status and BMI\n",
    "-  smoking and the region, in regards to and regardless of gender\n",
    "\n",
    "I also wanted to write a method that creates a dictionary of the data for additional future analysis, `dictionary_creator()`.\n",
    "\n",
    "To keep my code modular, I created the InsuranceInfo class with different analytic tools:\n",
    "-  `average_age()`\n",
    "-  `male_to_female()`\n",
    "-  `tuple_creator()`\n",
    "-  `smoking_by_gender()`\n",
    "-  `average_charges_by_age_smoking()`\n",
    "-  `children_insurance_charges()`\n",
    "-  `smoking_and_avg_bmi()`\n",
    "-  `smoking_by_region_gender()`\n",
    "-  `smoking_and_num_of_children()`"
   ]
  },
  {
   "cell_type": "code",
   "execution_count": 5,
   "metadata": {},
   "outputs": [],
   "source": [
    "class InsuranceInfo:\n",
    "    def __init__(self, ages, sexes, bmis, num_of_children, smoking, regions, insurance_charges):\n",
    "        self.ages = ages\n",
    "        self.sexes = sexes\n",
    "        self.bmis = bmis\n",
    "        self.num_of_children = num_of_children\n",
    "        self.smoking = smoking\n",
    "        self.regions = regions\n",
    "        self.insurance_charges = insurance_charges\n",
    "    \n",
    "    def average_age(self):\n",
    "        total_age = 0\n",
    "        for age in self.ages:\n",
    "            total_age += int(age)\n",
    "        return \"The average age is \" + str(round(total_age/len(self.ages), 2))\n",
    "    \n",
    "    def male_to_female(self):\n",
    "        males = 0\n",
    "        females = 0\n",
    "        total = len(self.sexes)\n",
    "        for sex in self.sexes:\n",
    "            if sex == \"male\":\n",
    "                males += 1\n",
    "            if sex == \"female\":\n",
    "                females += 1\n",
    "        return \"The number of males is {males} ({percentage_males}%), the number of females is {females} ({percentage_females}%)\".format(males=males, percentage_males=round((males/total * 100), 2), females=females, percentage_females=round((females/total * 100), 2))\n",
    "    \n",
    "    def tuple_creator(self):\n",
    "        list_to_return = []\n",
    "        for i in range(len(self.ages)):\n",
    "            list_to_return.append({\"age\": int(self.ages[i]), \"sex\": self.sexes[i], \"bmi\": float(self.bmis[i]), \"num_of_children\": int(self.num_of_children[i]), \"smoking\": self.smoking[i], \"region\": self.regions[i], \"insurance_charges\": float(self.insurance_charges[i])})\n",
    "        return list_to_return\n",
    " \n",
    "    def dictionary_creator(self):\n",
    "        dict_to_return = {}\n",
    "        for i in range(len(ages)):\n",
    "            dict_to_return[i] = {\"age\": int(ages[i]), \"sex\": sexes[i], \"bmi\": float(bmis[i]), \"num_of_children\": int(num_of_children[i]), \"smoking\": smoking[i], \"region\": regions[i], \"insurance_charges\": float(insurance_charges[i])}\n",
    "        return dict_to_return\n",
    "\n",
    "    def smoking_by_gender(self):\n",
    "        smoking_tuple = self.tuple_creator()\n",
    "        smoking_male = 0\n",
    "        non_smoking_male = 0\n",
    "        smoking_female = 0\n",
    "        non_smoking_female = 0\n",
    "        total = len(smoking_tuple)\n",
    "        for person in smoking_tuple:\n",
    "            if person[\"sex\"] == \"male\" and person[\"smoking\"] == \"yes\":\n",
    "                smoking_male += 1\n",
    "            elif person[\"sex\"] == \"male\" and person[\"smoking\"] == \"no\":\n",
    "                non_smoking_male += 1\n",
    "            elif person[\"sex\"] == \"female\" and person[\"smoking\"] == \"yes\":\n",
    "                smoking_female += 1\n",
    "            else:\n",
    "                non_smoking_female += 1\n",
    "        return \"\"\"Smoking males: {smoking_male} ({percentage_s_m}%)\n",
    "Non-smoking males: {non_smoking_male} ({percentage_n_s_m}%)\n",
    "Smoking females: {smoking_female} ({percentage_s_f}%)\n",
    "Non-smoking females: {non_smoking_female} ({percentage_n_s_f}%)\"\"\".format(smoking_male=smoking_male, percentage_s_m=round((smoking_male/total * 100), 2), non_smoking_male=non_smoking_male, percentage_n_s_m=round((non_smoking_male/total * 100), 2), smoking_female=smoking_female, percentage_s_f=round((smoking_female/total * 100), 2), non_smoking_female=non_smoking_female, percentage_n_s_f=round((non_smoking_female/total * 100), 2))\n",
    "    \n",
    "    def average_charges_by_age_smoking(self):\n",
    "        age_18_30 = []\n",
    "        age_31_45 = []\n",
    "        age_46_60 = []\n",
    "        age_over_60 = []\n",
    "        insurance_tuple = self.tuple_creator()\n",
    "        for person in insurance_tuple:\n",
    "            if person[\"age\"] >= 18 and person[\"age\"] <= 30:\n",
    "                age_18_30.append(person)\n",
    "            elif person[\"age\"] > 30 and person[\"age\"] <= 45:\n",
    "                age_31_45.append(person)\n",
    "            elif person[\"age\"] > 45 and person[\"age\"] <= 60:\n",
    "                age_46_60.append(person)\n",
    "            else:\n",
    "                age_over_60.append(person)\n",
    "                \n",
    "        total_smoking_18_30 = 0\n",
    "        t_s_18_30_count = 0\n",
    "        total_non_smoking_18_30 = 0\n",
    "        t_n_s_18_30_count = 0\n",
    "        total_smoking_31_45 = 0\n",
    "        t_s_31_45_count = 0\n",
    "        total_non_smoking_31_45 = 0\n",
    "        t_n_s_31_45_count = 0\n",
    "        total_smoking_46_60 = 0\n",
    "        t_s_46_60_count = 0\n",
    "        total_non_smoking_46_60 = 0\n",
    "        t_n_s_46_60_count = 0\n",
    "        total_smoking_over_60 = 0\n",
    "        t_s_over_60_count = 0\n",
    "        total_non_smoking_over_60 = 0\n",
    "        t_n_s_over_60_count = 0\n",
    "        for person in age_18_30:\n",
    "            if person[\"smoking\"] == \"yes\":\n",
    "                total_smoking_18_30 += person[\"insurance_charges\"]\n",
    "                t_s_18_30_count += 1\n",
    "            else:\n",
    "                total_non_smoking_18_30 += person[\"insurance_charges\"]\n",
    "                t_n_s_18_30_count += 1\n",
    "        for person in age_31_45:\n",
    "            if person[\"smoking\"] == \"yes\":\n",
    "                total_smoking_31_45 += person[\"insurance_charges\"]\n",
    "                t_s_31_45_count += 1\n",
    "            else:\n",
    "                total_non_smoking_31_45 += person[\"insurance_charges\"]\n",
    "                t_n_s_31_45_count += 1\n",
    "        for person in age_46_60:\n",
    "            if person[\"smoking\"] == \"yes\":\n",
    "                total_smoking_46_60 += person[\"insurance_charges\"]\n",
    "                t_s_46_60_count += 1\n",
    "            else:\n",
    "                total_non_smoking_46_60 += person[\"insurance_charges\"]\n",
    "                t_n_s_46_60_count += 1\n",
    "        for person in age_over_60:\n",
    "            if person[\"smoking\"] == \"yes\":\n",
    "                total_smoking_over_60 += person[\"insurance_charges\"]\n",
    "                t_s_over_60_count += 1\n",
    "            else:\n",
    "                total_non_smoking_over_60 += person[\"insurance_charges\"]\n",
    "                t_n_s_over_60_count += 1\n",
    "                \n",
    "        return \"\"\"The average insurance charges, grouped by age groups and smoking status:\n",
    "18-30 smoking: {average_1830_s}\n",
    "18-30 non-smoking: {average_1830_ns}\n",
    "31-45 smoking: {average_3145_s}\n",
    "31-45 non-smoking: {average_3145_ns}\n",
    "46-60 smoking: {average_4660_s}\n",
    "46-60 non-smoking {average_4660_ns}\n",
    "60+ smoking: {average_over60_s}\n",
    "60+ non-smoking: {average_over60_ns}\"\"\".format(average_1830_s=round((total_smoking_18_30/t_s_18_30_count), 3), average_1830_ns=round((total_non_smoking_18_30/t_n_s_18_30_count), 3), average_3145_s=round((total_smoking_31_45/t_s_31_45_count), 3), average_3145_ns=round((total_non_smoking_31_45/t_n_s_31_45_count), 3), average_4660_s=round((total_smoking_46_60/t_s_46_60_count), 3), average_4660_ns=round((total_non_smoking_46_60/t_n_s_46_60_count), 3), average_over60_s=round((total_smoking_over_60/t_s_over_60_count), 3), average_over60_ns=round((total_non_smoking_over_60/t_n_s_over_60_count), 3))\n",
    "        \n",
    "        \n",
    "    def children_insurance_charges(self):\n",
    "        children_0_count = 0\n",
    "        children_0_total = 0\n",
    "        children_1_count = 0\n",
    "        children_1_total = 0\n",
    "        children_2_count = 0\n",
    "        children_2_total = 0\n",
    "        children_3_count = 0\n",
    "        children_3_total = 0\n",
    "        children_4_count = 0\n",
    "        children_4_total = 0\n",
    "        children_5plus_count = 0\n",
    "        children_5plus_total = 0\n",
    "        children_tuple = self.tuple_creator()\n",
    "        for person in children_tuple:\n",
    "            if person[\"num_of_children\"] == 0:\n",
    "                children_0_count += 1\n",
    "                children_0_total += person[\"insurance_charges\"]\n",
    "            elif person[\"num_of_children\"] == 1:\n",
    "                children_1_count += 1\n",
    "                children_1_total += person[\"insurance_charges\"]\n",
    "            elif person[\"num_of_children\"] == 2:\n",
    "                children_2_count += 1\n",
    "                children_2_total += person[\"insurance_charges\"]\n",
    "            elif person[\"num_of_children\"] == 3:\n",
    "                children_3_count += 1\n",
    "                children_3_total += person[\"insurance_charges\"]\n",
    "            elif person[\"num_of_children\"] == 4:\n",
    "                children_4_count += 1\n",
    "                children_4_total += person[\"insurance_charges\"]\n",
    "            else:\n",
    "                children_5plus_count += 1\n",
    "                children_5plus_total += person[\"insurance_charges\"]\n",
    "        average_0 = children_0_total/children_0_count\n",
    "        average_1 = children_1_total/children_1_count\n",
    "        average_2 = children_2_total/children_2_count\n",
    "        average_3 = children_3_total/children_3_count\n",
    "        average_4 = children_4_total/children_4_count\n",
    "        average_5plus = children_5plus_total/children_5plus_count\n",
    "        return \"\"\"Average insurance cost by number of children:\n",
    "0 children: {average_0}\n",
    "1 child: {average_1}\n",
    "2 children: {average_2}\n",
    "3 children: {average_3}\n",
    "4 children: {average_4}\n",
    "5 children or more: {average_5plus}\"\"\".format(average_0=round(average_0, 2), average_1=round(average_1, 2), average_2=round(average_2, 2), average_3=round(average_3, 2), average_4=round(average_4, 2), average_5plus=round(average_5plus, 2))\n",
    "    \n",
    "    def smoking_and_avg_bmi(self):\n",
    "        smokers = 0\n",
    "        smokers_bmi_total = 0\n",
    "        non_smokers = 0\n",
    "        non_smokers_bmi_total = 0\n",
    "        smokers_tuple = self.tuple_creator()\n",
    "        for person in smokers_tuple:\n",
    "            if person[\"smoking\"] == \"yes\":\n",
    "                smokers += 1\n",
    "                smokers_bmi_total += person[\"bmi\"]\n",
    "            else:\n",
    "                non_smokers += 1\n",
    "                non_smokers_bmi_total += person[\"bmi\"]\n",
    "        smokers_avg_bmi = smokers_bmi_total/smokers\n",
    "        non_smokers_avg_bmi = non_smokers_bmi_total/non_smokers\n",
    "        return \"\"\"Average BMI of smokers: {smokers_avg_bmi}\n",
    "Average BMI of non-smokers: {non_smokers_avg_bmi}\"\"\".format(smokers_avg_bmi=round(smokers_avg_bmi, 2), non_smokers_avg_bmi=round(non_smokers_avg_bmi, 2))\n",
    "        \n",
    "    def smoking_by_region_gender(self):\n",
    "        southwest_smoking_male = 0\n",
    "        southwest_non_smoking_male = 0\n",
    "        southwest_smoking_female = 0\n",
    "        southwest_non_smoking_female = 0\n",
    "        southeast_smoking_male = 0\n",
    "        southeast_non_smoking_male = 0\n",
    "        southeast_smoking_female = 0\n",
    "        southeast_non_smoking_female = 0\n",
    "        northwest_smoking_male = 0\n",
    "        northwest_non_smoking_male = 0\n",
    "        northwest_smoking_female = 0\n",
    "        northwest_non_smoking_female = 0\n",
    "        northeast_smoking_male = 0\n",
    "        northeast_non_smoking_male = 0\n",
    "        northeast_smoking_female = 0\n",
    "        northeast_non_smoking_female = 0\n",
    "        smoking_tuple = self.tuple_creator()\n",
    "        for person in smoking_tuple:\n",
    "            if person[\"smoking\"] == \"yes\" and person[\"sex\"] == \"male\" and person[\"region\"] == \"southwest\":\n",
    "                southwest_smoking_male += 1\n",
    "            elif person[\"smoking\"] == \"no\" and person[\"sex\"] == \"male\" and person[\"region\"] == \"southwest\":\n",
    "                southwest_non_smoking_male += 1\n",
    "            elif person[\"smoking\"] == \"yes\" and person[\"sex\"] == \"female\" and person[\"region\"] == \"southwest\":\n",
    "                southwest_smoking_female += 1\n",
    "            elif person[\"smoking\"] == \"no\" and person[\"sex\"] == \"female\" and person[\"region\"] == \"southwest\":\n",
    "                southwest_non_smoking_female += 1\n",
    "            elif person[\"smoking\"] == \"yes\" and person[\"sex\"] == \"male\" and person[\"region\"] == \"southeast\":\n",
    "                southeast_smoking_male += 1\n",
    "            elif person[\"smoking\"] == \"no\" and person[\"sex\"] == \"male\" and person[\"region\"] == \"southeast\":\n",
    "                southwest_non_smoking_male += 1\n",
    "            elif person[\"smoking\"] == \"yes\" and person[\"sex\"] == \"female\" and person[\"region\"] == \"southeast\":\n",
    "                southwest_smoking_female += 1\n",
    "            elif person[\"smoking\"] == \"no\" and person[\"sex\"] == \"female\" and person[\"region\"] == \"southeast\":\n",
    "                southwest_non_smoking_female += 1\n",
    "            elif person[\"smoking\"] == \"yes\" and person[\"sex\"] == \"male\" and person[\"region\"] == \"northwest\":\n",
    "                northwest_smoking_male += 1\n",
    "            elif person[\"smoking\"] == \"no\" and person[\"sex\"] == \"male\" and person[\"region\"] == \"northwest\":\n",
    "                northwest_non_smoking_male += 1\n",
    "            elif person[\"smoking\"] == \"yes\" and person[\"sex\"] == \"female\" and person[\"region\"] == \"northwest\":\n",
    "                northwest_smoking_female += 1\n",
    "            elif person[\"smoking\"] == \"no\" and person[\"sex\"] == \"female\" and person[\"region\"] == \"northwest\":\n",
    "                northwest_non_smoking_female += 1\n",
    "            elif person[\"smoking\"] == \"yes\" and person[\"sex\"] == \"male\" and person[\"region\"] == \"northeast\":\n",
    "                northeast_smoking_male += 1\n",
    "            elif person[\"smoking\"] == \"no\" and person[\"sex\"] == \"male\" and person[\"region\"] == \"northeast\":\n",
    "                northeast_non_smoking_male += 1\n",
    "            elif person[\"smoking\"] == \"yes\" and person[\"sex\"] == \"female\" and person[\"region\"] == \"northeast\":\n",
    "                northeast_smoking_female += 1\n",
    "            elif person[\"smoking\"] == \"no\" and person[\"sex\"] == \"female\" and person[\"region\"] == \"northeast\":\n",
    "                northeast_non_smoking_female += 1\n",
    "        return \"\"\"Of the total number of people ({total}) in the dataset:\n",
    "Smokers:\n",
    "    Southwest: {southwest_smoking}% ({southwest_smoking_men}% men, {southwest_smoking_women}% women)\n",
    "    Southeast: {southeast_smoking}% ({southeast_smoking_men}% men, {southeast_smoking_women}% women)\n",
    "    Northwest: {northwest_smoking}% ({northwest_smoking_men}% men, {northwest_smoking_women}% women)\n",
    "    Northeast: {northeast_smoking}% ({northeast_smoking_men}% men, {northeast_smoking_women}% women)\n",
    "Non-smokers:\n",
    "    Southwest: {southwest_non_smoking}% ({southwest_non_smoking_men}% men, {southwest_non_smoking_women}% women)\n",
    "    Southeast: {southeast_non_smoking}% ({southeast_non_smoking_men}% men, {southeast_non_smoking_women}% women)\n",
    "    Northwest: {northwest_non_smoking}% ({northwest_non_smoking_men}% men, {northwest_non_smoking_women}% women)\n",
    "    Northeast: {northeast_non_smoking}% ({northeast_non_smoking_men}% men, {northeast_non_smoking_women}% women)\"\"\".format(total=len(smoking_tuple), southwest_smoking=(round((southwest_smoking_male+southwest_smoking_female)/len(smoking_tuple)*100, 2)), southwest_smoking_men=round((southwest_smoking_male/len(smoking_tuple)*100), 2), southwest_smoking_women=round((southwest_smoking_female/len(smoking_tuple)*100), 2),\\\n",
    "                                                                                                                          southeast_smoking=round(((southeast_smoking_male+southeast_smoking_female)/len(smoking_tuple)*100), 2), southeast_smoking_men=round((southeast_smoking_male/len(smoking_tuple)*100), 2), southeast_smoking_women=round((southeast_smoking_female/len(smoking_tuple)*100), 2),\\\n",
    "                                                                                                                          northwest_smoking=round(((northwest_smoking_male+northwest_smoking_female)/len(smoking_tuple)*100), 2), northwest_smoking_men=round((northwest_smoking_male/len(smoking_tuple)*100), 2), northwest_smoking_women=round((northwest_smoking_female/len(smoking_tuple)*100), 2),\\\n",
    "                                                                                                                          northeast_smoking=round(((northeast_smoking_male+northeast_smoking_female)/len(smoking_tuple)*100), 2), northeast_smoking_men=round((northeast_smoking_male/len(smoking_tuple)*100), 2), northeast_smoking_women=round((northeast_smoking_female/len(smoking_tuple)*100), 2),\\\n",
    "                                                                                                                          southwest_non_smoking=round(((southwest_non_smoking_male+southwest_non_smoking_female)/len(smoking_tuple)*100), 2), southwest_non_smoking_men=round((southwest_non_smoking_male/len(smoking_tuple)*100), 2), southwest_non_smoking_women=round((southwest_non_smoking_female/len(smoking_tuple)*100), 2),\\\n",
    "                                                                                                                          southeast_non_smoking=round(((southeast_non_smoking_male+southeast_non_smoking_female)/len(smoking_tuple)*100), 2), southeast_non_smoking_men=round((southeast_non_smoking_male/len(smoking_tuple)*100), 2), southeast_non_smoking_women=round((southeast_non_smoking_female/len(smoking_tuple)*100), 2),\\\n",
    "                                                                                                                          northwest_non_smoking=round(((northwest_non_smoking_male+northwest_non_smoking_female)/len(smoking_tuple)*100), 2), northwest_non_smoking_men=round((northwest_non_smoking_male/len(smoking_tuple)*100), 2), northwest_non_smoking_women=round((northwest_non_smoking_female/len(smoking_tuple)*100), 2),\\\n",
    "                                                                                                                          northeast_non_smoking=round(((northeast_non_smoking_male+northeast_non_smoking_female)/len(smoking_tuple)*100), 2), northeast_non_smoking_men=round((northeast_non_smoking_male/len(smoking_tuple)*100), 2), northeast_non_smoking_women=round((northeast_non_smoking_female/len(smoking_tuple)*100), 2))\n",
    "            \n",
    "\n",
    "insurance = InsuranceInfo(ages, sexes, bmis, num_of_children, smoking, regions, insurance_charges)"
   ]
  },
  {
   "cell_type": "markdown",
   "metadata": {},
   "source": [
    "### The average age and male-to-female ratio:"
   ]
  },
  {
   "cell_type": "code",
   "execution_count": 6,
   "metadata": {},
   "outputs": [
    {
     "name": "stdout",
     "output_type": "stream",
     "text": [
      "The average age is 39.21\n",
      "The number of males is 676 (50.52%), the number of females is 662 (49.48%)\n"
     ]
    }
   ],
   "source": [
    "print(insurance.average_age())\n",
    "print(insurance.male_to_female())"
   ]
  },
  {
   "cell_type": "markdown",
   "metadata": {},
   "source": [
    "### Smoking and gender\n",
    "Looking at the dataset in regards to smoking and gender, the majority of people are non-smokers, but there's no significant difference between the number of males and females. The relationship between the number of male and female smokers to their non-smoking counterparts is roughly similar."
   ]
  },
  {
   "cell_type": "code",
   "execution_count": 7,
   "metadata": {},
   "outputs": [
    {
     "name": "stdout",
     "output_type": "stream",
     "text": [
      "Smoking males: 159 (11.88%)\n",
      "Non-smoking males: 517 (38.64%)\n",
      "Smoking females: 115 (8.59%)\n",
      "Non-smoking females: 547 (40.88%)\n"
     ]
    }
   ],
   "source": [
    "print(insurance.smoking_by_gender())"
   ]
  },
  {
   "cell_type": "markdown",
   "metadata": {},
   "source": [
    "### Average insurance charges by age and smoking\n",
    "I wrote the `average_charges_by_age_smoking()` method to see how much of a difference smoking means to people of different age. Without knowing the insurance contract terms it seems that the younger the person, the bigger the difference is between the insurance charges of smokers and non-smokers:"
   ]
  },
  {
   "cell_type": "code",
   "execution_count": 8,
   "metadata": {},
   "outputs": [
    {
     "name": "stdout",
     "output_type": "stream",
     "text": [
      "The average insurance charges, grouped by age groups and smoking status:\n",
      "18-30 smoking: 27528.078\n",
      "18-30 non-smoking: 4462.309\n",
      "31-45 smoking: 31707.164\n",
      "31-45 non-smoking: 7246.17\n",
      "46-60 smoking: 36451.732\n",
      "46-60 non-smoking 12188.334\n",
      "60+ smoking: 38929.615\n",
      "60+ non-smoking: 15366.613\n"
     ]
    }
   ],
   "source": [
    "print(insurance.average_charges_by_age_smoking())"
   ]
  },
  {
   "cell_type": "markdown",
   "metadata": {},
   "source": [
    "### Number of children and insurance charges\n",
    "On average, people with 2-3 children pay the most in insurance charges:"
   ]
  },
  {
   "cell_type": "code",
   "execution_count": 9,
   "metadata": {},
   "outputs": [
    {
     "name": "stdout",
     "output_type": "stream",
     "text": [
      "Average insurance cost by number of children:\n",
      "0 children: 12365.98\n",
      "1 child: 12731.17\n",
      "2 children: 15073.56\n",
      "3 children: 15355.32\n",
      "4 children: 13850.66\n",
      "5 children or more: 8786.04\n"
     ]
    }
   ],
   "source": [
    "print(insurance.children_insurance_charges())"
   ]
  },
  {
   "cell_type": "markdown",
   "metadata": {},
   "source": [
    "### Smoking status and BMI\n",
    "In this dataset there doesn't seem to be any significant difference between smokers and non-smokers, regarding BMI:"
   ]
  },
  {
   "cell_type": "code",
   "execution_count": 10,
   "metadata": {},
   "outputs": [
    {
     "name": "stdout",
     "output_type": "stream",
     "text": [
      "Average BMI of smokers: 30.71\n",
      "Average BMI of non-smokers: 30.65\n"
     ]
    }
   ],
   "source": [
    "print(insurance.smoking_and_avg_bmi())"
   ]
  },
  {
   "cell_type": "markdown",
   "metadata": {},
   "source": [
    "### Smoking by region and gender\n",
    "After using the `smoking_by_region_gender()` method, it's obvious that the relative majority of people are from the Southwest, and the Southeast is very under represented:"
   ]
  },
  {
   "cell_type": "code",
   "execution_count": 11,
   "metadata": {},
   "outputs": [
    {
     "name": "stdout",
     "output_type": "stream",
     "text": [
      "Of the total number of people (1338) in the dataset:\n",
      "Smokers:\n",
      "    Southwest: 7.03% (2.77% men, 4.26% women)\n",
      "    Southeast: 4.11% (4.11% men, 0.0% women)\n",
      "    Northwest: 4.33% (2.17% men, 2.17% women)\n",
      "    Northeast: 5.01% (2.84% men, 2.17% women)\n",
      "Non-smokers:\n",
      "    Southwest: 40.36% (19.43% men, 20.93% women)\n",
      "    Southeast: 0.0% (0.0% men, 0.0% women)\n",
      "    Northwest: 19.96% (9.87% men, 10.09% women)\n",
      "    Northeast: 19.21% (9.34% men, 9.87% women)\n"
     ]
    }
   ],
   "source": [
    "print(insurance.smoking_by_region_gender())"
   ]
  }
 ],
 "metadata": {
  "kernelspec": {
   "display_name": "Python 3",
   "language": "python",
   "name": "python3"
  },
  "language_info": {
   "codemirror_mode": {
    "name": "ipython",
    "version": 3
   },
   "file_extension": ".py",
   "mimetype": "text/x-python",
   "name": "python",
   "nbconvert_exporter": "python",
   "pygments_lexer": "ipython3",
   "version": "3.8.3"
  }
 },
 "nbformat": 4,
 "nbformat_minor": 4
}
